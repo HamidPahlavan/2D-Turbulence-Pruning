{
 "cells": [
  {
   "cell_type": "markdown",
   "metadata": {},
   "source": [
    "Routines for plotting the short-term performance statistics (e.g., RMSE/ACC/Spectra) of the emulator, averaged across different randomly initialized and trained emulators."
   ]
  },
  {
   "cell_type": "code",
   "execution_count": null,
   "metadata": {},
   "outputs": [],
   "source": [
    "import os\n",
    "import numpy as np\n",
    "import matplotlib.pyplot as plt\n",
    "import yaml"
   ]
  },
  {
   "cell_type": "code",
   "execution_count": 2,
   "metadata": {},
   "outputs": [],
   "source": [
    "# List all ensemble run_nums\n",
    "run_nums = []\n",
    "\n",
    "# Config file path\n",
    "config_file_path = \"config/config.yaml\"\n",
    "with open(config_file_path, \"r\") as f:\n",
    "    config = yaml.safe_load(f)\n",
    "\n",
    "dataset_params = config[\"dataset_params\"]\n",
    "short_analysis_params = config[\"short_analysis_params\"]\n",
    "long_analysis_params = config[\"long_analysis_params\"]\n",
    "\n",
    "root_dir = dataset_params[\"root_dir\"]"
   ]
  },
  {
   "cell_type": "code",
   "execution_count": null,
   "metadata": {},
   "outputs": [],
   "source": [
    "# Gather all of the data\n",
    "\n",
    "rmse_u, rmse_v = [], []\n",
    "acc_u, acc_v = [], []\n",
    "spectra_pred, spectra_tar = [], []\n",
    "\n",
    "for run_num in run_nums:\n",
    "    analysis_dir = os.path.join(root_dir, run_num, \"analysis\")\n",
    "    short_analysis_results_fp = os.path.join(analysis_dir, \"emulate\", \"short_analysis_results.npz\")\n",
    "\n",
    "    data = np.load(short_analysis_results_fp)\n",
    "\n",
    "    rmse_u.append(data[\"rmse_u\"])\n",
    "    rmse_v.append(data[\"rmse_v\"])\n",
    "    acc_u.append(data[\"acc_u\"])\n",
    "    acc_v.append(data[\"acc_v\"])\n",
    "    spectra_pred.append(data[\"spectra\"])\n",
    "    spectra_tar = data[\"spectra_tar\"]\n",
    "    wavenumbers = data[\"wavenumbers\"]\n",
    "\n",
    "    rmse_u_per_median = data[\"rmse_u_per_median\"]\n",
    "    rmse_u_per_uq = data[\"rmse_u_per_uq\"]\n",
    "    rmse_u_per_lq = data[\"rmse_u_per_lq\"]\n",
    "    rmse_v_per_lq = data[\"rmse_v_per_lq\"]\n",
    "    rmse_v_per_median = data[\"rmse_v_per_median\"]\n",
    "    rmse_v_per_uq = data[\"rmse_v_per_uq\"]\n",
    "    rmse_v_per_lq = data[\"rmse_v_per_lq\"]\n",
    "\n",
    "    acc_u_per_median = data[\"acc_u_per_median\"]\n",
    "    acc_u_per_uq = data[\"acc_u_per_uq\"]\n",
    "    acc_u_per_lq = data[\"acc_u_per_lq\"]\n",
    "    acc_v_per_lq = data[\"acc_v_per_lq\"]\n",
    "    acc_v_per_median = data[\"acc_v_per_median\"]\n",
    "    acc_v_per_uq = data[\"acc_v_per_uq\"]\n",
    "    acc_v_per_lq = data[\"acc_v_per_lq\"]\n",
    "\n",
    "rmse_u = np.concatenate(rmse_u, axis=0)\n",
    "rmse_v = np.concatenate(rmse_v, axis=0)\n",
    "acc_u = np.concatenate(acc_u, axis=0)\n",
    "acc_v = np.concatenate(acc_v, axis=0)\n",
    "spectra_pred = np.stack(spectra_pred, axis=0)  # shape (len(run_nums), leadtimes, wavenumbers)"
   ]
  },
  {
   "cell_type": "markdown",
   "metadata": {},
   "source": [
    "Root-Mean-Square-Error"
   ]
  },
  {
   "cell_type": "code",
   "execution_count": null,
   "metadata": {},
   "outputs": [],
   "source": [
    "rmse_u_median = np.quantile(rmse_u, 0.5, axis=0)\n",
    "rmse_u_uq = np.quantile(rmse_u, 0.75, axis=0)\n",
    "rmse_u_lq = np.quantile(rmse_u, 0.25, axis=0)\n",
    "\n",
    "fig, ax = plt.subplots()\n",
    "x = np.arange(1, rmse_u_median.shape[1]+1) \n",
    "ax.plot(x, rmse_u_median, '-k', label='ML')\n",
    "ax.fill_between(x, rmse_u_lq, rmse_u_uq, color='k', alpha=0.1)\n",
    "ax.plot(x, rmse_u_per_median, '--k', label='Persistence')\n",
    "ax.fill_between(x, rmse_u_per_lq, rmse_u_per_uq, color='k', alpha=0.1)\n",
    "ax.set_ylabel('RMSE')\n",
    "ax.set_xlabel(rf'Lead time ($\\Delta t$)')\n",
    "ax.set_ylim([0, 3.5])\n",
    "ax.set_xlim([0, rmse_u_median.shape[1]])\n",
    "\n",
    "ax.legend()\n",
    "plt.tight_layout()"
   ]
  },
  {
   "cell_type": "code",
   "execution_count": null,
   "metadata": {},
   "outputs": [],
   "source": [
    "rmse_v_median = np.quantile(rmse_v, 0.5, axis=0)\n",
    "rmse_v_uq = np.quantile(rmse_v, 0.75, axis=0)\n",
    "rmse_v_lq = np.quantile(rmse_v, 0.25, axis=0)\n",
    "\n",
    "fig, ax = plt.subplots()\n",
    "x = np.arange(1, rmse_v_median.shape[1]+1) \n",
    "ax.plot(x, rmse_v_median, '-k', label='ML')\n",
    "ax.fill_between(x, rmse_v_lq, rmse_v_uq, color='k', alpha=0.1)\n",
    "ax.plot(x, rmse_v_per_median, '--k', label='Persistence')\n",
    "ax.fill_between(x, rmse_v_per_lq, rmse_v_per_uq, color='k', alpha=0.1)\n",
    "ax.set_ylabel('RMSE')\n",
    "ax.set_xlabel(rf'Lead time ($\\Delta t$)')\n",
    "ax.set_ylim([0, 3.5])\n",
    "ax.set_xlim([0, rmse_v_median.shape[1]])\n",
    "\n",
    "ax.legend()\n",
    "plt.tight_layout()"
   ]
  },
  {
   "cell_type": "markdown",
   "metadata": {},
   "source": [
    "Anomaly Correlation Coefficient"
   ]
  },
  {
   "cell_type": "code",
   "execution_count": null,
   "metadata": {},
   "outputs": [],
   "source": [
    "acc_u_median = np.quantile(acc_u, 0.5, axis=0)\n",
    "acc_u_uq = np.quantile(acc_u, 0.75, axis=0)\n",
    "acc_u_lq = np.quantile(acc_u, 0.25, axis=0)\n",
    "\n",
    "fig, ax = plt.subplots()\n",
    "x = np.arange(1, acc_u_median.shape[1]+1) \n",
    "ax.plot(x, acc_u_median, '-k', label='ML')\n",
    "ax.fill_between(x, acc_u_lq, acc_u_uq, color='k', alpha=0.1)\n",
    "ax.plot(x, acc_u_per_median, '--k', label='Persistence')\n",
    "ax.fill_between(x, acc_u_per_lq, acc_u_per_uq, color='k', alpha=0.1)\n",
    "ax.set_ylabel('RMSE')\n",
    "ax.set_xlabel(rf'Lead time ($\\Delta t$)')\n",
    "ax.set_ylim([0, 3.5])\n",
    "ax.set_xlim([0, acc_u_median.shape[1]])\n",
    "\n",
    "ax.legend()\n",
    "plt.tight_layout()"
   ]
  },
  {
   "cell_type": "code",
   "execution_count": null,
   "metadata": {},
   "outputs": [],
   "source": [
    "acc_v_median = np.quantile(acc_v, 0.5, axis=0)\n",
    "acc_v_uq = np.quantile(acc_v, 0.75, axis=0)\n",
    "acc_v_lq = np.quantile(acc_v, 0.25, axis=0)\n",
    "\n",
    "fig, ax = plt.subplots()\n",
    "x = np.arange(1, acc_v_median.shape[1]+1) \n",
    "ax.plot(x, acc_v_median, '-k', label='ML')\n",
    "ax.fill_between(x, acc_v_lq, acc_u_uq, color='k', alpha=0.1)\n",
    "ax.plot(x, acc_v_per_median, '--k', label='Persistence')\n",
    "ax.fill_between(x, acc_v_per_lq, acc_v_per_uq, color='k', alpha=0.1)\n",
    "ax.set_ylabel('RMSE')\n",
    "ax.set_xlabel(rf'Lead time ($\\Delta t$)')\n",
    "ax.set_ylim([0, 3.5])\n",
    "ax.set_xlim([0, acc_v_median.shape[1]])\n",
    "\n",
    "ax.legend()\n",
    "plt.tight_layout()"
   ]
  },
  {
   "cell_type": "markdown",
   "metadata": {},
   "source": [
    "Spectra"
   ]
  },
  {
   "cell_type": "code",
   "execution_count": null,
   "metadata": {},
   "outputs": [],
   "source": [
    "spectra_pred = np.mean(spectra_pred, axis=0)\n",
    "\n",
    "leadtimes = short_analysis_params[\"spectra_leadtimes\"]\n",
    "\n",
    "fig, ax = plt.subplots()\n",
    "ax.plot(wavenumbers, spectra_tar, '-k', label='Truth')\n",
    "for lead in leadtimes:\n",
    "    spec = spectra_pred[lead]\n",
    "\n",
    "    label = rf'{lead+1}$\\Delta t$' \n",
    "\n",
    "    ax.plot(x, spec, label=label)\n",
    "    ax.set_xscale('log')\n",
    "    ax.set_yscale('log')\n",
    "    ax.set_xlabel('Wavenumbers')\n",
    "    ax.set_ylabel('Power')\n",
    "    ax.set_xlim([0.8, 200])\n",
    "    ax.set_ylim([10**(-9), 10])\n",
    "    ax.legend()\n",
    "\n",
    "plt.tight_layout()"
   ]
  }
 ],
 "metadata": {
  "kernelspec": {
   "display_name": "Python 3",
   "language": "python",
   "name": "python3"
  },
  "language_info": {
   "codemirror_mode": {
    "name": "ipython",
    "version": 3
   },
   "file_extension": ".py",
   "mimetype": "text/x-python",
   "name": "python",
   "nbconvert_exporter": "python",
   "pygments_lexer": "ipython3",
   "version": "3.12.9"
  }
 },
 "nbformat": 4,
 "nbformat_minor": 2
}
